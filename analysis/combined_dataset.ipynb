{
 "cells": [
  {
   "cell_type": "markdown",
   "metadata": {},
   "source": [
    "# Getting data before combining them"
   ]
  },
  {
   "cell_type": "code",
   "execution_count": 7,
   "metadata": {},
   "outputs": [],
   "source": [
    "from weather_data.weather import get_split_weather_data\n",
    "from holidays.holiday import create_dataframe\n",
    "from parking_and_canteen import get_extended_canteen_data\n",
    "from datetime import date, datetime\n",
    "import pandas as pd"
   ]
  },
  {
   "cell_type": "markdown",
   "metadata": {},
   "source": [
    "### Canteen and parking data"
   ]
  },
  {
   "cell_type": "code",
   "execution_count": 2,
   "metadata": {},
   "outputs": [
    {
     "name": "stdout",
     "output_type": "stream",
     "text": [
      "All files in ../data/parking_data loaded!\n"
     ]
    }
   ],
   "source": [
    "canteen = get_extended_canteen_data()"
   ]
  },
  {
   "cell_type": "code",
   "execution_count": 3,
   "metadata": {},
   "outputs": [],
   "source": [
    "canteen.index = pd.to_datetime(canteen.index).date\n",
    "canteen.index.name = \"date\""
   ]
  },
  {
   "cell_type": "markdown",
   "metadata": {},
   "source": [
    "### Define date interval"
   ]
  },
  {
   "cell_type": "code",
   "execution_count": 4,
   "metadata": {},
   "outputs": [],
   "source": [
    "earliest_date = canteen.iloc[0].name\n",
    "#earliest_date_canteen = canteen.iloc[0]\n",
    "\n",
    "#earliest_date_from_datasets = earliest_date_cars.name\n",
    "\n",
    "#if earliest_date_canteen.name < earliest_date_cars.name:\n",
    "#    earliest_date_from_datasets = earliest_date_canteen \n",
    "\n",
    "date_today = date.today()"
   ]
  },
  {
   "cell_type": "markdown",
   "metadata": {},
   "source": [
    "### Holiday data"
   ]
  },
  {
   "cell_type": "code",
   "execution_count": 5,
   "metadata": {},
   "outputs": [
    {
     "name": "stdout",
     "output_type": "stream",
     "text": [
      "Data retrieved from web api!\n",
      "Data retrieved from web api!\n",
      "Data retrieved from web api!\n",
      "Data retrieved from web api!\n"
     ]
    }
   ],
   "source": [
    "holidays = []\n",
    "for i in range (int(earliest_date.year), int(date_today.year)+1):\n",
    "    holidays.append(create_dataframe(i))\n",
    "holiday = pd.concat(holidays)\n",
    "holiday.index = pd.to_datetime(holiday.index).date"
   ]
  },
  {
   "cell_type": "markdown",
   "metadata": {},
   "source": [
    "### Weather data"
   ]
  },
  {
   "cell_type": "code",
   "execution_count": 8,
   "metadata": {},
   "outputs": [
    {
     "name": "stdout",
     "output_type": "stream",
     "text": [
      "Data retrieved from frost.met.no!\n"
     ]
    }
   ],
   "source": [
    "weather = get_split_weather_data(str(earliest_date), str(date_today.strftime(\"%Y-%m-%d\")), \"../config.ini\")\n",
    "weather.index = pd.to_datetime(weather.index).date\n",
    "weather.index.name = \"date\""
   ]
  },
  {
   "cell_type": "markdown",
   "metadata": {},
   "source": [
    "## Combine data"
   ]
  },
  {
   "cell_type": "code",
   "execution_count": 76,
   "metadata": {},
   "outputs": [],
   "source": [
    "merged = pd.merge(weather, holiday, left_index=True, right_index=True, how='left')"
   ]
  },
  {
   "cell_type": "code",
   "execution_count": 77,
   "metadata": {},
   "outputs": [],
   "source": [
    "merged = pd.merge(canteen, merged, left_index=True, right_index=True, how='left')"
   ]
  },
  {
   "cell_type": "code",
   "execution_count": 78,
   "metadata": {},
   "outputs": [],
   "source": [
    "merged['Canteen'] = merged.apply(lambda row: row['Canteen'] if not row['holiday'] else 0.0 , axis=1)"
   ]
  },
  {
   "cell_type": "markdown",
   "metadata": {},
   "source": [
    "### Create .csv file and read it"
   ]
  },
  {
   "cell_type": "code",
   "execution_count": 84,
   "metadata": {},
   "outputs": [],
   "source": [
    "merged.to_csv(index=True, path_or_buf='../data/dataset.csv')"
   ]
  },
  {
   "cell_type": "code",
   "execution_count": 86,
   "metadata": {},
   "outputs": [],
   "source": [
    "res = pd.read_csv('../data/dataset.csv', index_col='date')"
   ]
  }
 ],
 "metadata": {
  "kernelspec": {
   "display_name": "Python 3",
   "language": "python",
   "name": "python3"
  },
  "language_info": {
   "codemirror_mode": {
    "name": "ipython",
    "version": 3
   },
   "file_extension": ".py",
   "mimetype": "text/x-python",
   "name": "python",
   "nbconvert_exporter": "python",
   "pygments_lexer": "ipython3",
   "version": "3.7.3"
  }
 },
 "nbformat": 4,
 "nbformat_minor": 2
}
