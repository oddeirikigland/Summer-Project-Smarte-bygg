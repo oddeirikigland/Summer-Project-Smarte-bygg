{
 "cells": [
  {
   "cell_type": "markdown",
   "metadata": {},
   "source": [
    "# Getting data before combining them"
   ]
  },
  {
   "cell_type": "code",
   "execution_count": 1,
   "metadata": {},
   "outputs": [],
   "source": [
    "from weather_data.weather import get_split_weather_data\n",
    "from holidays.holiday import create_dataframe\n",
    "from parking_and_canteen import get_extended_canteen_data\n",
    "from datetime import date, datetime\n",
    "import pandas as pd"
   ]
  },
  {
   "cell_type": "markdown",
   "metadata": {},
   "source": [
    "### Canteen and parking data"
   ]
  },
  {
   "cell_type": "code",
   "execution_count": 2,
   "metadata": {},
   "outputs": [
    {
     "name": "stdout",
     "output_type": "stream",
     "text": [
      "All files in ../data/parking_data loaded!\n"
     ]
    }
   ],
   "source": [
    "canteen = get_extended_canteen_data()"
   ]
  },
  {
   "cell_type": "code",
   "execution_count": 3,
   "metadata": {},
   "outputs": [],
   "source": [
    "canteen.index = pd.to_datetime(canteen.index).date\n",
    "canteen.index.name = \"date\""
   ]
  },
  {
   "cell_type": "markdown",
   "metadata": {},
   "source": [
    "### Define date interval"
   ]
  },
  {
   "cell_type": "code",
   "execution_count": 4,
   "metadata": {},
   "outputs": [
    {
     "name": "stdout",
     "output_type": "stream",
     "text": [
      "2019\n",
      "2016\n"
     ]
    }
   ],
   "source": [
    "earliest_date = canteen.iloc[0].name\n",
    "#earliest_date_canteen = canteen.iloc[0]\n",
    "\n",
    "#earliest_date_from_datasets = earliest_date_cars.name\n",
    "\n",
    "#if earliest_date_canteen.name < earliest_date_cars.name:\n",
    "#    earliest_date_from_datasets = earliest_date_canteen \n",
    "\n",
    "date_today = date.today()\n",
    "\n",
    "print(date_today.year)\n",
    "print(earliest_date.year)"
   ]
  },
  {
   "cell_type": "markdown",
   "metadata": {},
   "source": [
    "### Holiday data"
   ]
  },
  {
   "cell_type": "code",
   "execution_count": 5,
   "metadata": {},
   "outputs": [
    {
     "name": "stdout",
     "output_type": "stream",
     "text": [
      "Data retrieved from web api!\n",
      "Data retrieved from web api!\n",
      "Data retrieved from web api!\n",
      "Data retrieved from web api!\n"
     ]
    }
   ],
   "source": [
    "holidays = []\n",
    "for i in range (int(earliest_date.year), int(date_today.year)+1):\n",
    "    holidays.append(create_dataframe(i))\n",
    "holiday = pd.concat(holidays)\n",
    "holiday.index = pd.to_datetime(holiday.index).date"
   ]
  },
  {
   "cell_type": "markdown",
   "metadata": {},
   "source": [
    "### Weather data"
   ]
  },
  {
   "cell_type": "code",
   "execution_count": 6,
   "metadata": {},
   "outputs": [
    {
     "name": "stdout",
     "output_type": "stream",
     "text": [
      "Data retrieved from frost.met.no!\n"
     ]
    }
   ],
   "source": [
    "weather = get_split_weather_data(str(earliest_date), str(date_today.strftime(\"%Y-%m-%d\")), \"../config.ini\")\n",
    "weather.index = pd.to_datetime(weather.index).date\n",
    "weather.index.name = \"date\""
   ]
  },
  {
   "cell_type": "markdown",
   "metadata": {},
   "source": [
    "## Combine data"
   ]
  },
  {
   "cell_type": "code",
   "execution_count": 1,
   "metadata": {},
   "outputs": [
    {
     "ename": "NameError",
     "evalue": "name 'pd' is not defined",
     "output_type": "error",
     "traceback": [
      "\u001b[0;31m---------------------------------------------------------------------------\u001b[0m",
      "\u001b[0;31mNameError\u001b[0m                                 Traceback (most recent call last)",
      "\u001b[0;32m<ipython-input-1-8f4babaf88cb>\u001b[0m in \u001b[0;36m<module>\u001b[0;34m\u001b[0m\n\u001b[0;32m----> 1\u001b[0;31m \u001b[0mmerged\u001b[0m \u001b[0;34m=\u001b[0m \u001b[0mpd\u001b[0m\u001b[0;34m.\u001b[0m\u001b[0mmerge\u001b[0m\u001b[0;34m(\u001b[0m\u001b[0mcanteen\u001b[0m\u001b[0;34m,\u001b[0m \u001b[0mweather\u001b[0m\u001b[0;34m,\u001b[0m \u001b[0mleft_index\u001b[0m\u001b[0;34m=\u001b[0m\u001b[0;32mTrue\u001b[0m\u001b[0;34m,\u001b[0m \u001b[0mright_index\u001b[0m\u001b[0;34m=\u001b[0m\u001b[0;32mTrue\u001b[0m\u001b[0;34m,\u001b[0m \u001b[0mhow\u001b[0m\u001b[0;34m=\u001b[0m\u001b[0;34m'left'\u001b[0m\u001b[0;34m)\u001b[0m\u001b[0;34m\u001b[0m\u001b[0;34m\u001b[0m\u001b[0m\n\u001b[0m",
      "\u001b[0;31mNameError\u001b[0m: name 'pd' is not defined"
     ]
    }
   ],
   "source": [
    "merged = pd.merge(canteen, weather, left_index=True, right_index=True, how='left')"
   ]
  },
  {
   "cell_type": "code",
   "execution_count": 20,
   "metadata": {},
   "outputs": [],
   "source": [
    "merged = pd.merge(merged, holiday, left_index=True, right_index=True, how='left')"
   ]
  },
  {
   "cell_type": "code",
   "execution_count": 21,
   "metadata": {},
   "outputs": [],
   "source": [
    "merged2['Canteen'] = merged.apply(lambda row: row['Canteen'] if not row['holiday'] else 0.0 , axis=1)"
   ]
  },
  {
   "cell_type": "code",
   "execution_count": 22,
   "metadata": {},
   "outputs": [
    {
     "name": "stdout",
     "output_type": "stream",
     "text": [
      "            Canteen  precipitation  max_temp  min_temp  holiday  vacation\n",
      "date                                                                     \n",
      "2017-11-01   1886.0            NaN       NaN       NaN    False     False\n",
      "2018-03-25      0.0            NaN       NaN       NaN     True     False\n",
      "2018-06-15   1470.0            NaN       NaN       NaN    False     False\n",
      "2018-08-05      0.0            NaN       NaN       NaN     True     False\n",
      "2019-01-03    545.0            NaN       NaN       NaN    False     False\n",
      "2019-02-25   1869.0            NaN       NaN       NaN    False     False\n"
     ]
    }
   ],
   "source": [
    "print(merged.loc[np.isnan(merged['precipitation'])])"
   ]
  },
  {
   "cell_type": "code",
   "execution_count": 28,
   "metadata": {},
   "outputs": [
    {
     "name": "stdout",
     "output_type": "stream",
     "text": [
      "            Canteen  precipitation  max_temp  min_temp  holiday  vacation\n",
      "date                                                                     \n",
      "2016-10-01      0.0            0.0      10.6       3.1     True     False\n",
      "2016-10-02      0.0            0.0       8.3       3.5     True     False\n",
      "2016-10-03   1622.0            0.0       8.6       2.7    False      True\n",
      "2016-10-04   1730.0            0.0       6.7       2.0    False      True\n",
      "2016-10-05   1635.0            0.0       6.2       0.0    False      True\n",
      "2016-10-06   1417.0            0.0       7.8       1.1    False      True\n",
      "2016-10-07   1083.0            0.0      10.6       9.0    False      True\n",
      "2016-10-08      0.0            0.0      11.3       7.4     True      True\n",
      "2016-10-09      0.0            0.0       6.7       5.0     True      True\n",
      "2016-10-10   1899.0            0.0       7.2       6.6    False     False\n",
      "2016-10-11   1789.0            0.0       6.2       4.6    False     False\n",
      "2016-10-12   1735.0            0.0       4.7       3.0    False     False\n",
      "2016-10-13   1748.0            0.0       3.6       2.8    False     False\n",
      "2016-10-14   1618.0            0.0       2.8       0.2    False     False\n",
      "2016-10-15      0.0            0.0       3.5       0.9     True     False\n",
      "2016-10-16      0.0            0.0       5.6       4.8     True     False\n",
      "2016-10-17   1769.0            2.0       6.5       5.8    False     False\n",
      "2016-10-18   1871.0            1.7       7.2       6.7    False     False\n",
      "2016-10-19   1834.0            0.3       7.3       6.6    False     False\n",
      "2016-10-20   1811.0            0.1       8.3       7.2    False     False\n",
      "2016-10-21   1640.0            0.0       6.5       4.6    False     False\n",
      "2016-10-22      0.0            0.0       5.4       4.4     True     False\n",
      "2016-10-23      0.0            0.2       3.3       2.1     True     False\n",
      "2016-10-24   1898.0            0.0       5.5       4.3    False     False\n",
      "2016-10-25   1900.0            3.2       5.7       4.7    False     False\n",
      "2016-10-26   1860.0            0.0       3.8       1.1    False     False\n",
      "2016-10-27   1805.0            0.2       8.8       6.0    False     False\n",
      "2016-10-28   1601.0            0.0       9.4       5.9    False     False\n",
      "2016-10-29      0.0            0.0       7.4       1.8     True     False\n",
      "2016-10-30      0.0            0.0       3.1       0.7     True     False\n",
      "...             ...            ...       ...       ...      ...       ...\n",
      "2019-01-25   1616.0            1.9      -2.4      -3.1    False     False\n",
      "2019-01-26      0.0            0.7      -2.9      -5.4     True     False\n",
      "2019-01-27      0.0            0.6      -4.0      -6.2     True     False\n",
      "2019-01-28   1825.0            3.2      -4.8      -6.5    False     False\n",
      "2019-01-29   1831.0            0.0      -4.6     -12.1    False     False\n",
      "2019-01-30   1793.0            0.0     -10.8     -14.1    False     False\n",
      "2019-01-31   1805.0            0.5      -8.1      -9.5    False     False\n",
      "2019-02-01   1598.0            1.9      -2.4      -4.8    False     False\n",
      "2019-02-02      0.0            5.7      -2.6      -3.2     True     False\n",
      "2019-02-03      0.0            0.6      -3.2      -3.6     True     False\n",
      "2019-02-04   1850.0            0.0      -7.8     -12.6    False     False\n",
      "2019-02-05   1873.0            7.5      -2.1      -4.2    False     False\n",
      "2019-02-06   1781.0            0.0      -1.9     -10.0    False     False\n",
      "2019-02-07   1689.0            0.0      -3.0      -3.8    False     False\n",
      "2019-02-08   1577.0            3.1       0.0      -2.1    False     False\n",
      "2019-02-09      0.0           14.6       3.8       0.3     True     False\n",
      "2019-02-10      0.0            3.2       3.1       0.8     True     False\n",
      "2019-02-11   1877.0            0.0       2.1      -0.7    False     False\n",
      "2019-02-12   1889.0            0.0       0.5      -6.6    False     False\n",
      "2019-02-13   1843.0            0.0       6.8      -0.8    False     False\n",
      "2019-02-14   1735.0            0.0       4.2      -1.8    False     False\n",
      "2019-02-15   1567.0            0.0       3.3       1.1    False     False\n",
      "2019-02-16      0.0            0.0       2.9       1.6     True     False\n",
      "2019-02-17      0.0            0.0       2.9      -2.6     True     False\n",
      "2019-02-18   1642.0            0.6       4.2       2.1    False      True\n",
      "2019-02-19   1609.0            0.0       3.8       2.9    False      True\n",
      "2019-02-20   1532.0            0.0       4.1      -1.6    False      True\n",
      "2019-02-21   1328.0            9.7       2.1      -0.2    False      True\n",
      "2019-02-22    969.0            0.2      -0.2      -1.2    False      True\n",
      "2019-02-26   1868.0            0.0       6.9       1.7    False     False\n",
      "\n",
      "[850 rows x 6 columns]\n"
     ]
    }
   ],
   "source": [
    "print(merged2.dropna())"
   ]
  },
  {
   "cell_type": "markdown",
   "metadata": {},
   "source": [
    "### Create .csv file and read it"
   ]
  },
  {
   "cell_type": "code",
   "execution_count": null,
   "metadata": {},
   "outputs": [],
   "source": [
    "merged.to_csv(index=True, path_or_buf='../data/dataset.csv')"
   ]
  },
  {
   "cell_type": "code",
   "execution_count": null,
   "metadata": {},
   "outputs": [],
   "source": [
    "res = pd.read_csv('../data/dataset.csv', index_col='date')"
   ]
  }
 ],
 "metadata": {
  "kernelspec": {
   "display_name": "Python 3",
   "language": "python",
   "name": "python3"
  },
  "language_info": {
   "codemirror_mode": {
    "name": "ipython",
    "version": 3
   },
   "file_extension": ".py",
   "mimetype": "text/x-python",
   "name": "python",
   "nbconvert_exporter": "python",
   "pygments_lexer": "ipython3",
   "version": "3.7.3"
  }
 },
 "nbformat": 4,
 "nbformat_minor": 2
}
