{
 "cells": [
  {
   "cell_type": "code",
   "execution_count": null,
   "metadata": {},
   "outputs": [],
   "source": [
    "# %matplotlib notebook\n",
    "%matplotlib inline\n",
    "import pandas as pd\n",
    "import matplotlib.pyplot as plt"
   ]
  },
  {
   "cell_type": "code",
   "execution_count": null,
   "metadata": {},
   "outputs": [],
   "source": [
    "from parking import get_cars_parked, load_excel_files_into_df"
   ]
  },
  {
   "cell_type": "code",
   "execution_count": null,
   "metadata": {},
   "outputs": [],
   "source": [
    "data = load_excel_files_into_df(\"../../data/parking_data\", \".xlsx\")"
   ]
  },
  {
   "cell_type": "code",
   "execution_count": null,
   "metadata": {},
   "outputs": [],
   "source": [
    "result = get_cars_parked(data)"
   ]
  },
  {
   "cell_type": "code",
   "execution_count": null,
   "metadata": {},
   "outputs": [],
   "source": [
    "cars_per_day = result.copy()\n",
    "cars_per_day.plot(figsize=(20,5));"
   ]
  },
  {
   "cell_type": "code",
   "execution_count": null,
   "metadata": {},
   "outputs": [],
   "source": [
    "number_of_cars = result.copy()\n",
    "number_of_cars.hist(column='Number of cars', figsize=(20,10), bins=20);"
   ]
  },
  {
   "cell_type": "code",
   "execution_count": null,
   "metadata": {},
   "outputs": [],
   "source": [
    "def filter_data_to_plot(dataframe, new_index, column, date, label, color):\n",
    "    df = dataframe.copy()\n",
    "    df.index = pd.to_datetime(df.pop(new_index))\n",
    "    df = df[date]\n",
    "    df = df.rename(columns={\"Payment status\": \"Frequency\"})\n",
    "    df = df.drop([\"Avdeling\", column], axis=1)\n",
    "    df = df.groupby(df.index.to_period(\"H\")).count().unstack()\n",
    "    df.plot(figsize=(12,5), kind='bar', alpha=0.5, label=label, color=color)\n",
    "    \n",
    "plt.figure()\n",
    "plt.title(\"Plots arrival and departure time for a given day\")\n",
    "\n",
    "date = \"20190211\"\n",
    "filter_data_to_plot(data, \"Starttid\", \"Sluttid\", date, \"Arrival\", \"b\")\n",
    "filter_data_to_plot(data, \"Sluttid\", \"Starttid\", date, \"Departure\", \"r\")\n",
    "\n",
    "plt.legend(loc='upper right')\n",
    "plt.show()"
   ]
  },
  {
   "cell_type": "code",
   "execution_count": null,
   "metadata": {},
   "outputs": [],
   "source": []
  },
  {
   "cell_type": "code",
   "execution_count": null,
   "metadata": {},
   "outputs": [],
   "source": []
  }
 ],
 "metadata": {
  "kernelspec": {
   "display_name": "Python 3",
   "language": "python",
   "name": "python3"
  },
  "language_info": {
   "codemirror_mode": {
    "name": "ipython",
    "version": 3
   },
   "file_extension": ".py",
   "mimetype": "text/x-python",
   "name": "python",
   "nbconvert_exporter": "python",
   "pygments_lexer": "ipython3",
   "version": "3.7.3"
  }
 },
 "nbformat": 4,
 "nbformat_minor": 2
}
