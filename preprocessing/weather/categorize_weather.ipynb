{
 "cells": [
  {
   "cell_type": "code",
   "execution_count": null,
   "metadata": {},
   "outputs": [],
   "source": [
    "import pandas as pd\n",
    "import numpy as np\n",
    "from categorize_weather import replace_temps_with_avg, categorize_temperature"
   ]
  },
  {
   "cell_type": "code",
   "execution_count": null,
   "metadata": {},
   "outputs": [],
   "source": [
    "df = pd.read_csv('../../data/dataset.csv')"
   ]
  },
  {
   "cell_type": "code",
   "execution_count": null,
   "metadata": {},
   "outputs": [],
   "source": [
    "print(df.to_string())"
   ]
  },
  {
   "cell_type": "code",
   "execution_count": null,
   "metadata": {},
   "outputs": [],
   "source": [
    "df = replace_temps_with_avg(df)"
   ]
  },
  {
   "cell_type": "code",
   "execution_count": null,
   "metadata": {},
   "outputs": [],
   "source": [
    "df.head(10)"
   ]
  },
  {
   "cell_type": "code",
   "execution_count": null,
   "metadata": {},
   "outputs": [],
   "source": [
    "df = categorize_temperature(df)"
   ]
  },
  {
   "cell_type": "code",
   "execution_count": null,
   "metadata": {},
   "outputs": [],
   "source": [
    "df.head(10)"
   ]
  },
  {
   "cell_type": "code",
   "execution_count": null,
   "metadata": {},
   "outputs": [],
   "source": [
    "def categorize_weather(df):\n",
    "    '''\n",
    "    Extra method for categorizing both precipitation and temperature:\n",
    "    Using the following categories: \n",
    "        Precipitation:    x=0 mm (none), 0<x<5 mm (some), x>=5mm (plenty)\n",
    "        Avg temperature:  -10 <= x <= -2 || +2 <= x <= 20(preferred_work_temp), \n",
    "                          x < -10 || -2 < x < +2 || x > 20 (stay_home_temp)\n",
    "    '''\n",
    "    # Setting labels and bin intervals\n",
    "    preci_labels = ['none', 'some', 'plenty']\n",
    "    preci_bins = [-1, 0, 5, 5000]\n",
    "    temp_bins = [-20, -10, -2, 2, 20, 40] # The minimum avg temp is -12.75 and max is 27.8\n",
    "\n",
    "    df['precipitation'] = pd.cut(df['precipitation'], preci_bins, labels=preci_labels)\n",
    "    df['avg_temp'] = pd.cut(df['avg_temp'], temp_bins, labels=['a', 'b', 'c', 'd', 'e'])\n",
    "    my_dict = dict.fromkeys(['a', 'c', 'e'], 'stay_home_temp')\n",
    "    my_dict.update(dict.fromkeys(['b', 'd'], 'preferred_work_temp'))\n",
    "    df['avg_temp'] = df['avg_temp'].map(my_dict)\n",
    "    \n",
    "    return df"
   ]
  }
 ],
 "metadata": {
  "kernelspec": {
   "display_name": "Python 3",
   "language": "python",
   "name": "python3"
  },
  "language_info": {
   "codemirror_mode": {
    "name": "ipython",
    "version": 3
   },
   "file_extension": ".py",
   "mimetype": "text/x-python",
   "name": "python",
   "nbconvert_exporter": "python",
   "pygments_lexer": "ipython3",
   "version": "3.7.3"
  }
 },
 "nbformat": 4,
 "nbformat_minor": 1
}
